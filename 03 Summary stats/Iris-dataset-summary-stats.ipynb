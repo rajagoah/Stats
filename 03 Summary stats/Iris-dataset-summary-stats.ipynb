{
 "cells": [
  {
   "cell_type": "markdown",
   "metadata": {},
   "source": [
    "# Types of statistics:"
   ]
  },
  {
   "cell_type": "code",
   "execution_count": 20,
   "metadata": {},
   "outputs": [
    {
     "ename": "SyntaxError",
     "evalue": "invalid syntax (<ipython-input-20-a071bb7e16f2>, line 1)",
     "output_type": "error",
     "traceback": [
      "\u001b[0;36m  File \u001b[0;32m\"<ipython-input-20-a071bb7e16f2>\"\u001b[0;36m, line \u001b[0;32m1\u001b[0m\n\u001b[0;31m    1. Descriptive statistics\u001b[0m\n\u001b[0m                 ^\u001b[0m\n\u001b[0;31mSyntaxError\u001b[0m\u001b[0;31m:\u001b[0m invalid syntax\n"
     ]
    }
   ],
   "source": [
    "1. Descriptive statistics\n",
    "2. Inferential statistics\n",
    "\n",
    "Types of data:\n",
    "1. Numeric\n",
    "    a. Continuos (measured)\n",
    "    b. Discrete (counted)\n",
    "2. Categorical \n",
    "    a. Nominal (unordered)\n",
    "    b. Ordinal (ordered)"
   ]
  },
  {
   "cell_type": "markdown",
   "metadata": {},
   "source": [
    "# Historgram "
   ]
  },
  {
   "cell_type": "code",
   "execution_count": null,
   "metadata": {
    "scrolled": true
   },
   "outputs": [],
   "source": [
    "#importing packages\n",
    "import pandas as pd\n",
    "import numpy as np\n",
    "import matplotlib.pyplot as plt\n",
    "import statistics as stats\n",
    "import seaborn as sns\n",
    "\n",
    "path = \"/Users/aakarsh.rajagopalan/Personal documents/Python projects/Statistics/00 Stats_dataset/Iris dataset/IRIS.csv\"\n",
    "#importing the data\n",
    "iris = pd.read_csv(path)\n",
    "\n",
    "iris['sepal_length'].hist(); plt.xlabel('Sepal length')\n",
    "plt.title('Sepal Length')\n",
    "plt.show()\n"
   ]
  },
  {
   "cell_type": "markdown",
   "metadata": {},
   "source": [
    "# Working on understanding the summary statistics for Sepal length"
   ]
  },
  {
   "cell_type": "markdown",
   "metadata": {},
   "source": [
    "1. Mean:\n",
    "    The (sum of observations) / (number of observations)\n",
    "2. Median:\n",
    "    The middle observation in a set of values\n",
    "3. Mode:\n",
    "    The value that repeats the most number of time"
   ]
  },
  {
   "cell_type": "code",
   "execution_count": null,
   "metadata": {},
   "outputs": [],
   "source": [
    "#mean calculation\n",
    "print('mean of the iris sepal length is: ', iris['sepal_length'].mean())\n",
    "\n",
    "#mean calculation using numpy\n",
    "print('mean of the iris sepal length is using NumPy: ', np.mean(iris['sepal_length']))\n",
    "\n",
    "#median calculation\n",
    "print('the median of the iris sepal length is: ', iris['sepal_length'].median())\n",
    "\n",
    "#median calculation using numpy\n",
    "print('mean of the iris sepal length is using NumPy: ', np.median(iris['sepal_length']))\n",
    "\n",
    "#mode calculation\n",
    "print('the mode of the iris sepal length is: ', iris['sepal_length'].mode())"
   ]
  },
  {
   "cell_type": "markdown",
   "metadata": {},
   "source": [
    "# Plotting the MEAN / MODE / MEDIAN on graph"
   ]
  },
  {
   "cell_type": "markdown",
   "metadata": {},
   "source": [
    "Performing this operation because we want to understand what is the most accurate measure of center"
   ]
  },
  {
   "cell_type": "code",
   "execution_count": 21,
   "metadata": {},
   "outputs": [
    {
     "data": {
      "text/plain": [
       "<matplotlib.axes._subplots.AxesSubplot at 0x7fcb3fc53050>"
      ]
     },
     "execution_count": 21,
     "metadata": {},
     "output_type": "execute_result"
    },
    {
     "data": {
      "image/png": "[encoded data removed]",
      "text/plain": [
       "<Figure size 432x288 with 1 Axes>"
      ]
     },
     "metadata": {},
     "output_type": "display_data"
    }
   ],
   "source": [
    "mean = np.mean(iris['sepal_length'])\n",
    "mode = iris['sepal_length'].mode()\n",
    "median = np.median(iris['sepal_length'])\n",
    "\n",
    "ax_hist = iris['sepal_length'].hist()\n",
    "plt.axvline(mean, color = 'red', linestyle = '--')\n",
    "plt.axvline(median, color = 'green', linestyle = ':')\n",
    "\n",
    "sns.set()\n",
    "sns.distplot(iris['sepal_length'], ax=ax_hist)\n",
    "\n"
   ]
  },
  {
   "cell_type": "markdown",
   "metadata": {},
   "source": [
    "# Measuring the spread of data"
   ]
  },
  {
   "cell_type": "markdown",
   "metadata": {},
   "source": [
    "Once we identify the spread of the data, we will be able to ascertain whether Median or mean is the better indicator of Center of the dataset.\n",
    "There are 2 measures of the spread of data. \n",
    "1. Variance\n",
    "2. Standard deviation\n",
    "\n",
    "## Variance vs Standard deviation:\n",
    "Once you get familiar with the field of statistics, you will come across a question about which measure of spread is better.\n",
    "1. Variance -->\n",
    "    1. This measures the sum of squares the distance of the points from the mean value of the data.\n",
    "    2. This measure squares the units of the data as well\n",
    "    3. This measure emphasizes larger difference. Depending on your data scenario this may be good or bad. \n",
    "2. Standard deviation --> \n",
    "    1. This measures the squareroot of the variance.\n",
    "    2. This measure makes reading of the spread of the data easier to understand\n",
    "    3. Doesn't allow larger deviations get exaggerated as they do in the standard deviation measure\n",
    "\n",
    "### Variance\n",
    "The variance as calculated below is: 0.686 (after rounding up)"
   ]
  },
  {
   "cell_type": "code",
   "execution_count": 29,
   "metadata": {},
   "outputs": [
    {
     "name": "stdout",
     "output_type": "stream",
     "text": [
      "the variance is:  0.6856935123042505\n",
      "the variance using the np.var function is:  0.6856935123042505\n"
     ]
    }
   ],
   "source": [
    "#measuring the varaince\n",
    "mean = np.mean(iris['sepal_length'])\n",
    "\n",
    "iris_len = len(iris['sepal_length'])\n",
    "iris_mean_minus_obs = np.square(iris['sepal_length'] - mean)\n",
    "iris_sum_of_mean_minus_obs = sum(iris_mean_minus_obs)\n",
    "\n",
    "iris_var = iris_sum_of_mean_minus_obs / (iris_len - 1)\n",
    "\n",
    "#priting the variance\n",
    "print('the variance is: ', iris_var)\n",
    "\n",
    "#the variance can also be calculated using the 'np.var' function directly.\n",
    "iris_var_using_function = np.var(iris['sepal_length'], ddof = 1)\n",
    "print('the variance using the np.var function is: ', iris_var_using_function)"
   ]
  },
  {
   "cell_type": "markdown",
   "metadata": {},
   "source": [
    "### Standard deviation\n",
    "As calculated below the standard deviation is the square root of the variance. \n",
    "The value is: 0.828"
   ]
  },
  {
   "cell_type": "code",
   "execution_count": 27,
   "metadata": {},
   "outputs": [
    {
     "name": "stdout",
     "output_type": "stream",
     "text": [
      "the standard deviation is:  0.8280661279778629\n",
      "the standard deviation using the np.std function is:  0.8280661279778629\n"
     ]
    }
   ],
   "source": [
    "#calculating the standard deviation\n",
    "iris_std = np.sqrt(iris_var)\n",
    "\n",
    "#printing the standard deviation\n",
    "print('the standard deviation is: ',iris_std)\n",
    "\n",
    "#standard deviation can also be calculated using the 'np.std' function directly.\n",
    "iris_std_using_function = np.std(iris['sepal_length'],ddof= 1)\n",
    "print('the standard deviation using the np.std function is: ', iris_std_using_function)"
   ]
  },
  {
   "cell_type": "markdown",
   "metadata": {},
   "source": [
    "# Outliers\n",
    "The formula for calculating the outliers is:\n",
    "data_points < Q1 - 1.5(IQR)\n",
    "data_points > Q3 + 1.5(IQR)\n",
    "\n",
    "To be able to apply this formula we need IQR. The IQR needs the values of Quartiles. Quartiles/median are a form of Quantiles.\n",
    "\n",
    "Quantiles can be calculated using the following function\n",
    "###### np.quantile(<dataset>,[0, 0.25, 0.5, 0.75, 1])\n",
    "    \n",
    "The array that is passed an argument in the above formula can be:\n",
    "    1. either specified by listing out the quartiles individually or\n",
    "    2. using np.linspace(start, end, number_of_partitions) function\n",
    "    \n",
    "Above,\n",
    "    1. Q1 = 0.25, also called first quartile\n",
    "    2. Q2 = 0.5, also called median\n",
    "    2. Q3 = 0.75, also called third quartile"
   ]
  },
  {
   "cell_type": "code",
   "execution_count": 32,
   "metadata": {},
   "outputs": [
    {
     "name": "stdout",
     "output_type": "stream",
     "text": [
      "the quartiles are:  [4.3 5.1 5.8 6.4 7.9]\n"
     ]
    }
   ],
   "source": [
    "#calculating the quartiles. The output of the formula is an array\n",
    "quart = np.quantile(iris['sepal_length'], [0, 0.25, 0.5, 0.75, 1])\n",
    "\n",
    "#printing\n",
    "print('the quartiles are: ', quart)\n",
    "\n",
    "#we can calcualte the quartiles using the linspace function, to specify the number of quantiles we need\n",
    "quant_using_linspace = np.quantile(iris['sepal_length'], np.linspace(0,1,5))\n",
    "print('the quartiles using the linspace function are: ', quant_using_linspace)"
   ]
  },
  {
   "cell_type": "code",
   "execution_count": null,
   "metadata": {},
   "outputs": [],
   "source": []
  }
 ],
 "metadata": {
  "kernelspec": {
   "display_name": "Python 3",
   "language": "python",
   "name": "python3"
  },
  "language_info": {
   "codemirror_mode": {
    "name": "ipython",
    "version": 3
   },
   "file_extension": ".py",
   "mimetype": "text/x-python",
   "name": "python",
   "nbconvert_exporter": "python",
   "pygments_lexer": "ipython3",
   "version": "3.7.6"
  }
 },
 "nbformat": 4,
 "nbformat_minor": 4
}
