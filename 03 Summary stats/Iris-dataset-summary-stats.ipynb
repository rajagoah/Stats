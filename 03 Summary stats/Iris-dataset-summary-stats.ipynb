{
 "cells": [
  {
   "cell_type": "markdown",
   "metadata": {},
   "source": [
    "Types of statistics:\n",
    "1. Descriptive statistics\n",
    "2. Inferential statistics\n",
    "\n",
    "Types of data:\n",
    "1. Numeric\n",
    "    a. Continuos (measured)\n",
    "    b. Discrete (counted)\n",
    "2. Categorical \n",
    "    a. Nominal (unordered)\n",
    "    b. Ordinal (ordered)\n",
    " \n",
    "Histograms:\n",
    "Helps visualise how the data is spread across defined buckets.\n",
    "Below is a piece of code that creates a histogram"
   ]
  },
  {
   "cell_type": "code",
   "execution_count": 7,
   "metadata": {},
   "outputs": [
    {
     "name": "stdout",
     "output_type": "stream",
     "text": [
      "Index(['sepal_length', 'sepal_width', 'petal_length', 'petal_width',\n",
      "       'species'],\n",
      "      dtype='object')\n"
     ]
    },
    {
     "data": {
      "image/png": "[encoded data removed]",
      "text/plain": [
       "<Figure size 432x288 with 1 Axes>"
      ]
     },
     "metadata": {
      "needs_background": "light"
     },
     "output_type": "display_data"
    }
   ],
   "source": [
    "#!/usr/bin/env python3\n",
    "# -*- coding: utf-8 -*-\n",
    "\"\"\"\n",
    "Created on Thu Jan  7 20:56:01 2021\n",
    "\n",
    "@author: aakarsh.rajagopalan\n",
    "\"\"\"\n",
    "import pandas as pd\n",
    "import numpy as np\n",
    "import matplotlib.pyplot as plt\n",
    "\n",
    "path = \"/Users/aakarsh.rajagopalan/Personal documents/Python projects/Statistics/00 Stats_dataset/Iris dataset/IRIS.csv\"\n",
    "#importing the data\n",
    "iris = pd.read_csv(path)\n",
    "\n",
    "iris['sepal_length'].hist(); plt.xlabel('Sepal length');plt.title('Sepal Length');plt.show();\n"
   ]
  },
  {
   "cell_type": "markdown",
   "metadata": {},
   "source": [
    "Working on understanding the summary statistics for Sepal length\n",
    "1. Mean:\n",
    "    The (sum of observations) / (number of observations)\n",
    "2. Median:\n",
    "    The middle observation in a set of values\n",
    "3. Mode:\n",
    "    The value that repeats the most number of time"
   ]
  }
 ],
 "metadata": {
  "kernelspec": {
   "display_name": "Python 3",
   "language": "python",
   "name": "python3"
  },
  "language_info": {
   "codemirror_mode": {
    "name": "ipython",
    "version": 3
   },
   "file_extension": ".py",
   "mimetype": "text/x-python",
   "name": "python",
   "nbconvert_exporter": "python",
   "pygments_lexer": "ipython3",
   "version": "3.7.6"
  }
 },
 "nbformat": 4,
 "nbformat_minor": 4
}
