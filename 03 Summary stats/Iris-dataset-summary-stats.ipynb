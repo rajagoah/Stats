{
 "cells": [
  {
   "cell_type": "markdown",
   "metadata": {},
   "source": [
    "# Types of statistics:"
   ]
  },
  {
   "cell_type": "code",
   "execution_count": null,
   "metadata": {},
   "outputs": [],
   "source": [
    "1. Descriptive statistics\n",
    "2. Inferential statistics\n",
    "\n",
    "Types of data:\n",
    "1. Numeric\n",
    "    a. Continuos (measured)\n",
    "    b. Discrete (counted)\n",
    "2. Categorical \n",
    "    a. Nominal (unordered)\n",
    "    b. Ordinal (ordered)"
   ]
  },
  {
   "cell_type": "markdown",
   "metadata": {},
   "source": [
    "# Historgram "
   ]
  },
  {
   "cell_type": "code",
   "execution_count": 16,
   "metadata": {
    "scrolled": true
   },
   "outputs": [
    {
     "data": {
      "image/png": "[encoded data removed]",
      "text/plain": [
       "<Figure size 432x288 with 1 Axes>"
      ]
     },
     "metadata": {
      "needs_background": "light"
     },
     "output_type": "display_data"
    }
   ],
   "source": [
    "#importing packages\n",
    "import pandas as pd\n",
    "import numpy as np\n",
    "import matplotlib.pyplot as plt\n",
    "import statistics as stats\n",
    "import seaborn as sns\n",
    "\n",
    "path = \"/Users/aakarsh.rajagopalan/Personal documents/Python projects/Statistics/00 Stats_dataset/Iris dataset/IRIS.csv\"\n",
    "#importing the data\n",
    "iris = pd.read_csv(path)\n",
    "\n",
    "iris['sepal_length'].hist(); plt.xlabel('Sepal length')\n",
    "plt.title('Sepal Length')\n",
    "plt.show()\n"
   ]
  },
  {
   "cell_type": "markdown",
   "metadata": {},
   "source": [
    "# Working on understanding the summary statistics for Sepal length"
   ]
  },
  {
   "cell_type": "markdown",
   "metadata": {},
   "source": [
    "1. Mean:\n",
    "    The (sum of observations) / (number of observations)\n",
    "2. Median:\n",
    "    The middle observation in a set of values\n",
    "3. Mode:\n",
    "    The value that repeats the most number of time"
   ]
  },
  {
   "cell_type": "code",
   "execution_count": 13,
   "metadata": {},
   "outputs": [
    {
     "name": "stdout",
     "output_type": "stream",
     "text": [
      "mean of the iris sepal length is:  5.843333333333335\n",
      "mean of the iris sepal length is using NumPy:  5.843333333333335\n",
      "the median of the iris sepal length is:  5.8\n",
      "mean of the iris sepal length is using NumPy:  5.8\n",
      "the mode of the iris sepal length is:  0    5.0\n",
      "dtype: float64\n"
     ]
    }
   ],
   "source": [
    "#mean calculation\n",
    "print('mean of the iris sepal length is: ', iris['sepal_length'].mean())\n",
    "\n",
    "#mean calculation using numpy\n",
    "print('mean of the iris sepal length is using NumPy: ', np.mean(iris['sepal_length']))\n",
    "\n",
    "#median calculation\n",
    "print('the median of the iris sepal length is: ', iris['sepal_length'].median())\n",
    "\n",
    "#median calculation using numpy\n",
    "print('mean of the iris sepal length is using NumPy: ', np.median(iris['sepal_length']))\n",
    "\n",
    "#mode calculation\n",
    "print('the mode of the iris sepal length is: ', iris['sepal_length'].mode())"
   ]
  },
  {
   "cell_type": "markdown",
   "metadata": {},
   "source": [
    "# Plotting the MEAN / MODE / MEDIAN on graph"
   ]
  },
  {
   "cell_type": "markdown",
   "metadata": {},
   "source": [
    "Performing this operation because we want to understand what is the most accurate measure of center"
   ]
  },
  {
   "cell_type": "code",
   "execution_count": 17,
   "metadata": {},
   "outputs": [
    {
     "data": {
      "text/plain": [
       "<matplotlib.axes._subplots.AxesSubplot at 0x7fcb3fb322d0>"
      ]
     },
     "execution_count": 17,
     "metadata": {},
     "output_type": "execute_result"
    },
    {
     "data": {
      "image/png": "[encoded data removed]",
      "text/plain": [
       "<Figure size 432x288 with 1 Axes>"
      ]
     },
     "metadata": {
      "needs_background": "light"
     },
     "output_type": "display_data"
    }
   ],
   "source": [
    "mean = np.mean(iris['sepal_length'])\n",
    "mode = iris['sepal_length'].mode()\n",
    "median = np.median(iris['sepal_length'])\n",
    "\n",
    "ax_hist = iris['sepal_length'].hist()\n",
    "plt.axvline(mean, color = 'red', linestyle = '--')\n",
    "plt.axvline(median, color = 'green', linestyle = ':')\n",
    "\n",
    "sns.set()\n",
    "sns.distplot(iris['sepal_length'], ax=ax_hist)\n",
    "\n"
   ]
  },
  {
   "cell_type": "code",
   "execution_count": null,
   "metadata": {},
   "outputs": [],
   "source": []
  }
 ],
 "metadata": {
  "kernelspec": {
   "display_name": "Python 3",
   "language": "python",
   "name": "python3"
  },
  "language_info": {
   "codemirror_mode": {
    "name": "ipython",
    "version": 3
   },
   "file_extension": ".py",
   "mimetype": "text/x-python",
   "name": "python",
   "nbconvert_exporter": "python",
   "pygments_lexer": "ipython3",
   "version": "3.7.6"
  }
 },
 "nbformat": 4,
 "nbformat_minor": 4
}
