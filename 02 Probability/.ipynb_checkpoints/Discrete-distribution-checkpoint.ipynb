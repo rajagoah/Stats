{
 "cells": [
  {
   "cell_type": "markdown",
   "metadata": {},
   "source": [
    "### Independent events\n",
    "2 events are independent if the second event's probability isn't affected by the outcome of the first event\n",
    "\n",
    "### Dependent events\n",
    "The converse of what independent events are\n",
    "\n",
    "### Probability distribution\n",
    "Describes the outcome of each possible outcome in a scenario\n",
    "\n",
    "### Types of probability distribution\n",
    "1. Discrete probability distribution\n",
    "2. Continuous probability distribution\n",
    "\n",
    "Using bank churners dataset\n",
    "Business question: \n",
    "1. What are the different types of educational qualifications?\n",
    "2. Based on the above answer, what is the probability that the person chosen is atleast a highschool graudate"
   ]
  },
  {
   "cell_type": "code",
   "execution_count": 38,
   "metadata": {},
   "outputs": [
    {
     "name": "stdout",
     "output_type": "stream",
     "text": [
      "the columns are:\n",
      " Index(['CLIENTNUM', 'Attrition_Flag', 'Customer_Age', 'Gender',\n",
      "       'Dependent_count', 'Education_Level', 'Marital_Status',\n",
      "       'Income_Category', 'Card_Category', 'Months_on_book',\n",
      "       'Total_Relationship_Count', 'Months_Inactive_12_mon',\n",
      "       'Contacts_Count_12_mon', 'Credit_Limit', 'Total_Revolving_Bal',\n",
      "       'Avg_Open_To_Buy', 'Total_Amt_Chng_Q4_Q1', 'Total_Trans_Amt',\n",
      "       'Total_Trans_Ct', 'Total_Ct_Chng_Q4_Q1', 'Avg_Utilization_Ratio'],\n",
      "      dtype='object')\n"
     ]
    }
   ],
   "source": [
    "#Importing packages\n",
    "import pandas as pd\n",
    "import numpy as np\n",
    "\n",
    "#storing the file path to a varaible\n",
    "path = 'Personal documents/Python projects/Statistics/Stats/00 Stats_dataset/Bank churners/BankChurners.csv'\n",
    "\n",
    "#reading csv file\n",
    "bank_churners_df = pd.read_csv(path)\n",
    "\n",
    "#displaying the columns\n",
    "print('the columns are:\\n', bank_churners_df.columns)"
   ]
  },
  {
   "cell_type": "code",
   "execution_count": 37,
   "metadata": {},
   "outputs": [
    {
     "name": "stdout",
     "output_type": "stream",
     "text": [
      "The different types of education levels are:\n",
      " Education_Level\n",
      "College          1013\n",
      "Doctorate         451\n",
      "Graduate         3128\n",
      "High School      2013\n",
      "Post-Graduate     516\n",
      "Uneducated       1487\n",
      "Unknown          1519\n",
      "Name: Education_Level, dtype: int64\n",
      "The total number of records is: \n",
      " 10127\n",
      "The number of people who are atleast a high school grad is: \n",
      " 7121\n",
      "The probability that a person chosen at random, will be at least a high school graduate is: 0.7031697442480498\n"
     ]
    }
   ],
   "source": [
    "#displaying the differnt types of educational qualification\n",
    "print('The different types of education levels are:\\n',bank_churners_df.groupby('Education_Level')['Education_Level'].count())\n",
    "\n",
    "#storing the total number of record is a variable\n",
    "total = bank_churners_df['Education_Level'].count()\n",
    "print('The total number of records is: \\n', total)\n",
    "\n",
    "#At least a highschool graduate = #college + # doctorate + # graduate + # post-graduate\n",
    "education_quals = ['Uneducated','Unknown']\n",
    "atleast_highschool_grad = bank_churners_df[~bank_churners_df.Education_Level.isin(education_quals)]\n",
    "count_atleast_highschool_grad = atleast_highschool_grad['Education_Level'].count()\n",
    "print('The number of people who are atleast a high school grad is: \\n',count_atleast_highschool_grad)\n",
    "\n",
    "#the probability\n",
    "print('The probability that a person chosen at random, will be at least a high school graduate is:',count_atleast_highschool_grad / total)"
   ]
  },
  {
   "cell_type": "code",
   "execution_count": 52,
   "metadata": {},
   "outputs": [
    {
     "data": {
      "text/plain": [
       "<matplotlib.axes._subplots.AxesSubplot at 0x7fcf255b1950>"
      ]
     },
     "execution_count": 52,
     "metadata": {},
     "output_type": "execute_result"
    },
    {
     "data": {
      "image/png": "[encoded data removed]",
      "text/plain": [
       "<Figure size 432x288 with 1 Axes>"
      ]
     },
     "metadata": {
      "needs_background": "light"
     },
     "output_type": "display_data"
    }
   ],
   "source": [
    "#sampling from atleast_highschool_grad\n",
    "#seeding a value to make the code output repeatable\n",
    "np.random.seed(10)\n",
    "sample_atleast_highschool_grad = atleast_highschool_grad['Education_Level'].sample(10, replace = False)\n",
    "#visualising a sample\n",
    "sample_atleast_highschool_grad.hist()"
   ]
  },
  {
   "cell_type": "code",
   "execution_count": null,
   "metadata": {},
   "outputs": [],
   "source": []
  },
  {
   "cell_type": "code",
   "execution_count": null,
   "metadata": {},
   "outputs": [],
   "source": []
  },
  {
   "cell_type": "code",
   "execution_count": null,
   "metadata": {},
   "outputs": [],
   "source": []
  }
 ],
 "metadata": {
  "kernelspec": {
   "display_name": "Python 3",
   "language": "python",
   "name": "python3"
  },
  "language_info": {
   "codemirror_mode": {
    "name": "ipython",
    "version": 3
   },
   "file_extension": ".py",
   "mimetype": "text/x-python",
   "name": "python",
   "nbconvert_exporter": "python",
   "pygments_lexer": "ipython3",
   "version": "3.7.6"
  }
 },
 "nbformat": 4,
 "nbformat_minor": 4
}
